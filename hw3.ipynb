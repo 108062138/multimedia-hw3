{
 "cells": [
  {
   "cell_type": "code",
   "execution_count": 4,
   "metadata": {},
   "outputs": [],
   "source": [
    "import cv2\n",
    "import numpy as np\n",
    "import os\n",
    "import matplotlib.pyplot as plt\n",
    "is_out_exist = os.path.exists('out')\n",
    "if not is_out_exist:\n",
    "    os.makedirs('out')\n",
    "    print(\"The new directory is created!\")\n",
    "reference_image_name = '.\\\\img\\\\40.jpg'\n",
    "target_image_name    = '.\\\\img\\\\42.jpg'"
   ]
  },
  {
   "cell_type": "code",
   "execution_count": 7,
   "metadata": {},
   "outputs": [],
   "source": [
    "def generate_search_window(i,j,p, shape):\n",
    "    lu = (max(0, i-p-1), max(0, j-p-1))               #i-p, j-p\n",
    "    ld = (min(shape[0], i+p), max(0, j-p-1))        #i+p, j-p\n",
    "    ru = (max(0, i-p-1), min(shape[1], j+p))        #i-p, j+p\n",
    "    rd = (min(shape[0], i+p), min(shape[1], j+p)) #i+p, j+p\n",
    "    return lu, ld, ru, rd\n",
    "def SAD(window, blk):\n",
    "    return np.sum(np.abs(window-blk))\n",
    "def full_search(window_img, target_img, N):\n",
    "    #print(window_img.shape, target_img.shape)\n",
    "    min_i = 0\n",
    "    min_j = 0\n",
    "    min_value = 1000000000000\n",
    "    for i in range(window_img.shape[0]-N):\n",
    "        for j in range(window_img.shape[1]-N):\n",
    "            tmp = SAD(window_img[i:i+N,j:j+N,:], target_img)\n",
    "            if tmp < min_value:\n",
    "                min_value = tmp\n",
    "                min_i = i\n",
    "                min_j = j\n",
    "    return min_i, min_j\n",
    "def motion_estimation(reference_image_name, target_image_name, N, p):\n",
    "    reference_image = cv2.imread(reference_image_name, cv2.IMREAD_COLOR)\n",
    "    target_image = cv2.imread(target_image_name, cv2.IMREAD_COLOR)\n",
    "    motion_vectors = np.zeros((int(reference_image.shape[0]/N), int(reference_image.shape[1]/N), 2))\n",
    "    residual_image = np.zeros((reference_image.shape[0], reference_image.shape[1], 3))\n",
    "    predicted_image = np.zeros((reference_image.shape[0], reference_image.shape[1], 3))\n",
    "    for i in range(0, target_image.shape[0], N):\n",
    "        for j in range(0, target_image.shape[1], N):\n",
    "            blk = target_image[i:i+N, j:j+N]\n",
    "            lu, ld, ru, rd = generate_search_window(int((i+i+N)/2),int((j+j+N)/2), p, reference_image.shape)\n",
    "            window = reference_image[lu[0]: ld[0], lu[1]: rd[1]]\n",
    "            min_i, min_j = full_search(window, blk, N)\n",
    "            min_i = min_i + lu[0]\n",
    "            min_j = min_j + lu[1]\n",
    "            motion_vectors[int(i/N), int(j/N)] = (int(min_i-i), int(min_j-j))        \n",
    "            residual_image[i:i+N, j:j+N] = blk - reference_image[min_i:min_i+N, min_j:min_j+N, : ]\n",
    "            predicted_image[i:i+N, j:j+N] = reference_image[i+int(min_i-i):i+int(min_i-i)+N, j+int(min_j-j):j+int(min_j-j)+N, : ]\n",
    "    return motion_vectors, residual_image, predicted_image\n",
    "def draw_arrow_line(estimated_motion, reference_image_name, N, vector_image_name):\n",
    "    img = cv2.imread(reference_image_name, cv2.IMREAD_COLOR)\n",
    "    for i in range(0,img.shape[0], N):\n",
    "        for j in range(0,img.shape[1], N):\n",
    "            start = (i,j)\n",
    "            end = (int(i+estimated_motion[int(i/N), int(j/N)][0]),int(j + estimated_motion[int(i/N), int(j/N)][1]))\n",
    "            \n",
    "            start = (start[1], start[0])\n",
    "            end = (end[1], end[0])\n",
    "            cv2.arrowedLine(img, start, end, (0,0,225))\n",
    "    cv2.imwrite(vector_image_name, img)\n",
    "    cv2.imshow('arrow line image', img)\n",
    "    cv2.waitKey(0)\n",
    "    cv2.destroyAllWindows()\n",
    "def draw_residual(residual_image, residul_image_name):\n",
    "    cv2.imwrite(residul_image_name, residual_image)\n",
    "    cv2.imshow('residual image', residual_image)\n",
    "    cv2.waitKey(0)\n",
    "    cv2.destroyAllWindows()\n",
    "def draw_predicted_image(predicted_image, predicted_image_name):\n",
    "    cv2.imwrite(predicted_image_name, predicted_image)\n",
    "    cv2.imshow('predicted image', predicted_image)\n",
    "    cv2.waitKey(0)\n",
    "    cv2.destroyAllWindows()"
   ]
  },
  {
   "cell_type": "code",
   "execution_count": 8,
   "metadata": {},
   "outputs": [
    {
     "name": "stdout",
     "output_type": "stream",
     "text": [
      "(90, 160, 2)\n",
      "2.8680949517656753 -1.1903125\n"
     ]
    }
   ],
   "source": [
    "for approach in ['full']:\n",
    "    for N in [8]:\n",
    "        for p in [8]:\n",
    "            estimated_motion, residual_image, predicted_image = motion_estimation(reference_image_name=reference_image_name, target_image_name=target_image_name, N=N, p=p)\n",
    "            #print(estimated_motion.shape)\n",
    "            #print(np.std(estimated_motion), np.mean(estimated_motion))\n",
    "            vector_image_name = 'out\\\\'+approach+'_motion_vection_r'+str(N)+'_p'+str(p)+'.png'\n",
    "            residual_image_name = 'out\\\\'+approach+'_residual_r'+str(N)+'_p'+str(p)+'_residual.png'\n",
    "            predicted_image_name = 'out\\\\'+approach+'_predicted_r'+str(N)+'_p'+str(p)+'_predicted.png'\n",
    "            draw_predicted_image(predicted_image, predicted_image_name=predicted_image_name)\n",
    "            draw_residual(residual_image, residul_image_name=residual_image_name)\n",
    "            draw_arrow_line(estimated_motion, target_image_name, N=N, vector_image_name=vector_image_name)"
   ]
  }
 ],
 "metadata": {
  "kernelspec": {
   "display_name": "tf2.5",
   "language": "python",
   "name": "python3"
  },
  "language_info": {
   "codemirror_mode": {
    "name": "ipython",
    "version": 3
   },
   "file_extension": ".py",
   "mimetype": "text/x-python",
   "name": "python",
   "nbconvert_exporter": "python",
   "pygments_lexer": "ipython3",
   "version": "3.8.15"
  },
  "orig_nbformat": 4
 },
 "nbformat": 4,
 "nbformat_minor": 2
}
